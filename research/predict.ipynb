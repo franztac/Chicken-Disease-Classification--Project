{
 "cells": [
  {
   "cell_type": "code",
   "execution_count": 1,
   "id": "268d7594",
   "metadata": {},
   "outputs": [
    {
     "data": {
      "text/plain": [
       "'c:\\\\Users\\\\UTENTE\\\\Git Repos\\\\Chicken-Disease-Classification--Project\\\\research'"
      ]
     },
     "execution_count": 1,
     "metadata": {},
     "output_type": "execute_result"
    }
   ],
   "source": [
    "import os\n",
    "os.getcwd()"
   ]
  },
  {
   "cell_type": "code",
   "execution_count": 2,
   "id": "777275bd",
   "metadata": {},
   "outputs": [
    {
     "data": {
      "text/plain": [
       "'c:\\\\Users\\\\UTENTE\\\\Git Repos\\\\Chicken-Disease-Classification--Project'"
      ]
     },
     "execution_count": 2,
     "metadata": {},
     "output_type": "execute_result"
    }
   ],
   "source": [
    "os.chdir(\"../\")\n",
    "os.getcwd()"
   ]
  },
  {
   "cell_type": "code",
   "execution_count": 4,
   "id": "599707ac",
   "metadata": {},
   "outputs": [],
   "source": [
    "from tensorflow.keras.models import load_model\n",
    "from tensorflow.keras.preprocessing import image\n",
    "import numpy as np\n",
    "import os"
   ]
  },
  {
   "cell_type": "code",
   "execution_count": 6,
   "id": "a4ae133a",
   "metadata": {},
   "outputs": [],
   "source": [
    "class PredictionPipeline:\n",
    "\n",
    "    def __init__(self, filename):\n",
    "        self.filename = filename\n",
    "\n",
    "\n",
    "    def predict(self):\n",
    "        # load model\n",
    "        model = load_model(os.path.join(\"artifacts\", \"training\", \"model.keras\"))\n",
    "\n",
    "        # imagename = r\"artifacts\\data_ingestion\\Chicken-fecal-images\\Coccidiosis\\cocci.0.jpg\"\n",
    "        imagename = self.filename\n",
    "        test_image = image.load_img(imagename, target_size=(224, 224))\n",
    "        test_image = image.img_to_array(test_image)\n",
    "        test_image = np.expand_dims(test_image, axis = 0)\n",
    "        result = np.argmax(model.predict(test_image), axis=1)\n",
    "        print(result)\n",
    "\n",
    "        if result[0] == 0:\n",
    "            prediction = \"Coccidiosis\"\n",
    "            return {\"image\": prediction}\n",
    "        else:\n",
    "            prediction = \"Healthy\"\n",
    "            return {\"image\": prediction}"
   ]
  },
  {
   "cell_type": "code",
   "execution_count": 8,
   "id": "5c1dbd7c",
   "metadata": {},
   "outputs": [
    {
     "name": "stdout",
     "output_type": "stream",
     "text": [
      "\u001b[1m1/1\u001b[0m \u001b[32m━━━━━━━━━━━━━━━━━━━━\u001b[0m\u001b[37m\u001b[0m \u001b[1m0s\u001b[0m 465ms/step\n",
      "[0]\n"
     ]
    },
    {
     "data": {
      "text/plain": [
       "{'image': 'Coccidiosis'}"
      ]
     },
     "execution_count": 8,
     "metadata": {},
     "output_type": "execute_result"
    }
   ],
   "source": [
    "filename = r\"artifacts\\data_ingestion\\Chicken-fecal-images\\Coccidiosis\\cocci.0.jpg\"\n",
    "model_prediction = PredictionPipeline(filename=filename)\n",
    "model_prediction.predict()"
   ]
  }
 ],
 "metadata": {
  "kernelspec": {
   "display_name": ".chicken_venv",
   "language": "python",
   "name": ".chicken_venv"
  },
  "language_info": {
   "codemirror_mode": {
    "name": "ipython",
    "version": 3
   },
   "file_extension": ".py",
   "mimetype": "text/x-python",
   "name": "python",
   "nbconvert_exporter": "python",
   "pygments_lexer": "ipython3",
   "version": "3.10.0"
  }
 },
 "nbformat": 4,
 "nbformat_minor": 5
}
