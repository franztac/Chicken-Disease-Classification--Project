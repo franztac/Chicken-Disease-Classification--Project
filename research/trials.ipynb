{
 "cells": [
  {
   "cell_type": "code",
   "execution_count": 12,
   "id": "7e9ea594",
   "metadata": {},
   "outputs": [],
   "source": [
    "from box import ConfigBox\n",
    "from ensure import ensure_annotations"
   ]
  },
  {
   "cell_type": "code",
   "execution_count": 5,
   "id": "3ce0d7b7",
   "metadata": {},
   "outputs": [],
   "source": [
    "my_dict = {\"key1\": \"Value1\", \"key2\": \"value2\"}\n",
    "my_dict = ConfigBox(my_dict)"
   ]
  },
  {
   "cell_type": "code",
   "execution_count": 6,
   "id": "5e535099",
   "metadata": {},
   "outputs": [
    {
     "data": {
      "text/plain": [
       "'Value1'"
      ]
     },
     "execution_count": 6,
     "metadata": {},
     "output_type": "execute_result"
    }
   ],
   "source": [
    "my_dict[\"key1\"]"
   ]
  },
  {
   "cell_type": "code",
   "execution_count": 7,
   "id": "b3c4a32e",
   "metadata": {},
   "outputs": [
    {
     "data": {
      "text/plain": [
       "'Value1'"
      ]
     },
     "execution_count": 7,
     "metadata": {},
     "output_type": "execute_result"
    }
   ],
   "source": [
    "my_dict.key1"
   ]
  },
  {
   "cell_type": "code",
   "execution_count": 16,
   "id": "2a934e5e",
   "metadata": {},
   "outputs": [],
   "source": [
    "@ensure_annotations\n",
    "def get_predict(x:int, y:int) -> int:\n",
    "    return x * y"
   ]
  },
  {
   "cell_type": "code",
   "execution_count": 17,
   "id": "26fc1909",
   "metadata": {},
   "outputs": [
    {
     "data": {
      "text/plain": [
       "12"
      ]
     },
     "execution_count": 17,
     "metadata": {},
     "output_type": "execute_result"
    }
   ],
   "source": [
    "get_predict(x=4, y=3)"
   ]
  }
 ],
 "metadata": {
  "kernelspec": {
   "display_name": ".chicken_venv",
   "language": "python",
   "name": ".chicken_venv"
  },
  "language_info": {
   "codemirror_mode": {
    "name": "ipython",
    "version": 3
   },
   "file_extension": ".py",
   "mimetype": "text/x-python",
   "name": "python",
   "nbconvert_exporter": "python",
   "pygments_lexer": "ipython3",
   "version": "3.10.0"
  }
 },
 "nbformat": 4,
 "nbformat_minor": 5
}
